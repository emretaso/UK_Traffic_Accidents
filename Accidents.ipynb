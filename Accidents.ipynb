{
 "cells": [
  {
   "cell_type": "code",
   "execution_count": 1,
   "metadata": {},
   "outputs": [],
   "source": [
    "import pandas as pd\n",
    "import numpy as np\n",
    "import seaborn as sns\n",
    "import matplotlib.pyplot as plt\n",
    "import re\n",
    "import datetime"
   ]
  },
  {
   "cell_type": "code",
   "execution_count": 2,
   "metadata": {},
   "outputs": [
    {
     "name": "stderr",
     "output_type": "stream",
     "text": [
      
     ]
    }
   ],
   "source": [
    "df1 = pd.read_csv(\"accidents_2012_to_2014.csv\")\n",
    "df2 = pd.read_csv(\"accidents_2009_to_2011.csv\")\n",
    "df3 = pd.read_csv(\"accidents_2005_to_2007.csv\")"
   ]
  },
  {
   "cell_type": "code",
   "execution_count": 3,
   "metadata": {},
   "outputs": [
    {
     "data": {
      "text/plain": [
       "array([ True,  True,  True,  True,  True,  True,  True,  True,  True,\n",
       "        True,  True,  True,  True,  True,  True,  True,  True,  True,\n",
       "        True,  True,  True,  True,  True,  True,  True,  True,  True,\n",
       "        True,  True,  True,  True,  True,  True])"
      ]
     },
     "execution_count": 3,
     "metadata": {},
     "output_type": "execute_result"
    }
   ],
   "source": [
    "df1.columns == df3.columns"
   ]
  },
  {
   "cell_type": "code",
   "execution_count": 4,
   "metadata": {},
   "outputs": [],
   "source": [
    "df=pd.concat([df1,df2,df3],axis=0)"
   ]
  },
  {
   "cell_type": "code",
   "execution_count": 5,
   "metadata": {},
   "outputs": [
    {
     "data": {
      "text/plain": [
       "(1504150, 33)"
      ]
     },
     "execution_count": 5,
     "metadata": {},
     "output_type": "execute_result"
    }
   ],
   "source": [
    "df.shape"
   ]
  },
  {
   "cell_type": "code",
   "execution_count": 6,
   "metadata": {},
   "outputs": [
    {
     "data": {
      "text/html": [
       "<div>\n",
       "<style scoped>\n",
       "    .dataframe tbody tr th:only-of-type {\n",
       "        vertical-align: middle;\n",
       "    }\n",
       "\n",
       "    .dataframe tbody tr th {\n",
       "        vertical-align: top;\n",
       "    }\n",
       "\n",
       "    .dataframe thead th {\n",
       "        text-align: right;\n",
       "    }\n",
       "</style>\n",
       "<table border=\"1\" class=\"dataframe\">\n",
       "  <thead>\n",
       "    <tr style=\"text-align: right;\">\n",
       "      <th></th>\n",
       "      <th>count</th>\n",
       "      <th>mean</th>\n",
       "      <th>std</th>\n",
       "      <th>min</th>\n",
       "      <th>25%</th>\n",
       "      <th>50%</th>\n",
       "      <th>75%</th>\n",
       "      <th>max</th>\n",
       "    </tr>\n",
       "  </thead>\n",
       "  <tbody>\n",
       "    <tr>\n",
       "      <th>Location_Easting_OSGR</th>\n",
       "      <td>1504049.0</td>\n",
       "      <td>439621.405078</td>\n",
       "      <td>95116.160326</td>\n",
       "      <td>64950.000000</td>\n",
       "      <td>375060.000000</td>\n",
       "      <td>439960.000000</td>\n",
       "      <td>523060.000000</td>\n",
       "      <td>6.553700e+05</td>\n",
       "    </tr>\n",
       "    <tr>\n",
       "      <th>Location_Northing_OSGR</th>\n",
       "      <td>1504049.0</td>\n",
       "      <td>300158.403995</td>\n",
       "      <td>161008.382735</td>\n",
       "      <td>10290.000000</td>\n",
       "      <td>178260.000000</td>\n",
       "      <td>268830.000000</td>\n",
       "      <td>398151.000000</td>\n",
       "      <td>1.208800e+06</td>\n",
       "    </tr>\n",
       "    <tr>\n",
       "      <th>Longitude</th>\n",
       "      <td>1504049.0</td>\n",
       "      <td>-1.436625</td>\n",
       "      <td>1.398078</td>\n",
       "      <td>-7.516225</td>\n",
       "      <td>-2.373902</td>\n",
       "      <td>-1.403714</td>\n",
       "      <td>-0.221510</td>\n",
       "      <td>1.759398e+00</td>\n",
       "    </tr>\n",
       "    <tr>\n",
       "      <th>Latitude</th>\n",
       "      <td>1504049.0</td>\n",
       "      <td>52.589399</td>\n",
       "      <td>1.449889</td>\n",
       "      <td>49.912941</td>\n",
       "      <td>51.490156</td>\n",
       "      <td>52.309126</td>\n",
       "      <td>53.478581</td>\n",
       "      <td>6.075754e+01</td>\n",
       "    </tr>\n",
       "    <tr>\n",
       "      <th>Police_Force</th>\n",
       "      <td>1504150.0</td>\n",
       "      <td>30.205364</td>\n",
       "      <td>25.516033</td>\n",
       "      <td>1.000000</td>\n",
       "      <td>6.000000</td>\n",
       "      <td>30.000000</td>\n",
       "      <td>45.000000</td>\n",
       "      <td>9.800000e+01</td>\n",
       "    </tr>\n",
       "    <tr>\n",
       "      <th>Accident_Severity</th>\n",
       "      <td>1504150.0</td>\n",
       "      <td>2.838190</td>\n",
       "      <td>0.401842</td>\n",
       "      <td>1.000000</td>\n",
       "      <td>3.000000</td>\n",
       "      <td>3.000000</td>\n",
       "      <td>3.000000</td>\n",
       "      <td>3.000000e+00</td>\n",
       "    </tr>\n",
       "    <tr>\n",
       "      <th>Number_of_Vehicles</th>\n",
       "      <td>1504150.0</td>\n",
       "      <td>1.831606</td>\n",
       "      <td>0.714759</td>\n",
       "      <td>1.000000</td>\n",
       "      <td>1.000000</td>\n",
       "      <td>2.000000</td>\n",
       "      <td>2.000000</td>\n",
       "      <td>6.700000e+01</td>\n",
       "    </tr>\n",
       "    <tr>\n",
       "      <th>Number_of_Casualties</th>\n",
       "      <td>1504150.0</td>\n",
       "      <td>1.350960</td>\n",
       "      <td>0.825335</td>\n",
       "      <td>1.000000</td>\n",
       "      <td>1.000000</td>\n",
       "      <td>1.000000</td>\n",
       "      <td>1.000000</td>\n",
       "      <td>9.300000e+01</td>\n",
       "    </tr>\n",
       "    <tr>\n",
       "      <th>Day_of_Week</th>\n",
       "      <td>1504150.0</td>\n",
       "      <td>4.118607</td>\n",
       "      <td>1.924405</td>\n",
       "      <td>1.000000</td>\n",
       "      <td>2.000000</td>\n",
       "      <td>4.000000</td>\n",
       "      <td>6.000000</td>\n",
       "      <td>7.000000e+00</td>\n",
       "    </tr>\n",
       "    <tr>\n",
       "      <th>Local_Authority_(District)</th>\n",
       "      <td>1504150.0</td>\n",
       "      <td>347.614855</td>\n",
       "      <td>259.429163</td>\n",
       "      <td>1.000000</td>\n",
       "      <td>110.000000</td>\n",
       "      <td>322.000000</td>\n",
       "      <td>518.000000</td>\n",
       "      <td>9.410000e+02</td>\n",
       "    </tr>\n",
       "    <tr>\n",
       "      <th>1st_Road_Class</th>\n",
       "      <td>1504150.0</td>\n",
       "      <td>4.087999</td>\n",
       "      <td>1.428936</td>\n",
       "      <td>1.000000</td>\n",
       "      <td>3.000000</td>\n",
       "      <td>4.000000</td>\n",
       "      <td>6.000000</td>\n",
       "      <td>6.000000e+00</td>\n",
       "    </tr>\n",
       "    <tr>\n",
       "      <th>1st_Road_Number</th>\n",
       "      <td>1504150.0</td>\n",
       "      <td>1009.919075</td>\n",
       "      <td>1823.517696</td>\n",
       "      <td>-1.000000</td>\n",
       "      <td>0.000000</td>\n",
       "      <td>129.000000</td>\n",
       "      <td>725.000000</td>\n",
       "      <td>9.999000e+03</td>\n",
       "    </tr>\n",
       "    <tr>\n",
       "      <th>Speed_limit</th>\n",
       "      <td>1504150.0</td>\n",
       "      <td>39.005398</td>\n",
       "      <td>14.139928</td>\n",
       "      <td>10.000000</td>\n",
       "      <td>30.000000</td>\n",
       "      <td>30.000000</td>\n",
       "      <td>50.000000</td>\n",
       "      <td>7.000000e+01</td>\n",
       "    </tr>\n",
       "    <tr>\n",
       "      <th>Junction_Detail</th>\n",
       "      <td>0.0</td>\n",
       "      <td>NaN</td>\n",
       "      <td>NaN</td>\n",
       "      <td>NaN</td>\n",
       "      <td>NaN</td>\n",
       "      <td>NaN</td>\n",
       "      <td>NaN</td>\n",
       "      <td>NaN</td>\n",
       "    </tr>\n",
       "    <tr>\n",
       "      <th>2nd_Road_Class</th>\n",
       "      <td>1504150.0</td>\n",
       "      <td>2.675084</td>\n",
       "      <td>3.205539</td>\n",
       "      <td>-1.000000</td>\n",
       "      <td>-1.000000</td>\n",
       "      <td>3.000000</td>\n",
       "      <td>6.000000</td>\n",
       "      <td>6.000000e+00</td>\n",
       "    </tr>\n",
       "    <tr>\n",
       "      <th>2nd_Road_Number</th>\n",
       "      <td>1504150.0</td>\n",
       "      <td>381.568351</td>\n",
       "      <td>1302.554552</td>\n",
       "      <td>-1.000000</td>\n",
       "      <td>0.000000</td>\n",
       "      <td>0.000000</td>\n",
       "      <td>0.000000</td>\n",
       "      <td>9.999000e+03</td>\n",
       "    </tr>\n",
       "    <tr>\n",
       "      <th>Urban_or_Rural_Area</th>\n",
       "      <td>1504150.0</td>\n",
       "      <td>1.353871</td>\n",
       "      <td>0.478353</td>\n",
       "      <td>1.000000</td>\n",
       "      <td>1.000000</td>\n",
       "      <td>1.000000</td>\n",
       "      <td>2.000000</td>\n",
       "      <td>3.000000e+00</td>\n",
       "    </tr>\n",
       "    <tr>\n",
       "      <th>Year</th>\n",
       "      <td>1504150.0</td>\n",
       "      <td>2009.369713</td>\n",
       "      <td>3.013497</td>\n",
       "      <td>2005.000000</td>\n",
       "      <td>2006.000000</td>\n",
       "      <td>2010.000000</td>\n",
       "      <td>2012.000000</td>\n",
       "      <td>2.014000e+03</td>\n",
       "    </tr>\n",
       "  </tbody>\n",
       "</table>\n",
       "</div>"
      ],
      "text/plain": [
       "                                count           mean            std  \\\n",
       "Location_Easting_OSGR       1504049.0  439621.405078   95116.160326   \n",
       "Location_Northing_OSGR      1504049.0  300158.403995  161008.382735   \n",
       "Longitude                   1504049.0      -1.436625       1.398078   \n",
       "Latitude                    1504049.0      52.589399       1.449889   \n",
       "Police_Force                1504150.0      30.205364      25.516033   \n",
       "Accident_Severity           1504150.0       2.838190       0.401842   \n",
       "Number_of_Vehicles          1504150.0       1.831606       0.714759   \n",
       "Number_of_Casualties        1504150.0       1.350960       0.825335   \n",
       "Day_of_Week                 1504150.0       4.118607       1.924405   \n",
       "Local_Authority_(District)  1504150.0     347.614855     259.429163   \n",
       "1st_Road_Class              1504150.0       4.087999       1.428936   \n",
       "1st_Road_Number             1504150.0    1009.919075    1823.517696   \n",
       "Speed_limit                 1504150.0      39.005398      14.139928   \n",
       "Junction_Detail                   0.0            NaN            NaN   \n",
       "2nd_Road_Class              1504150.0       2.675084       3.205539   \n",
       "2nd_Road_Number             1504150.0     381.568351    1302.554552   \n",
       "Urban_or_Rural_Area         1504150.0       1.353871       0.478353   \n",
       "Year                        1504150.0    2009.369713       3.013497   \n",
       "\n",
       "                                     min            25%            50%  \\\n",
       "Location_Easting_OSGR       64950.000000  375060.000000  439960.000000   \n",
       "Location_Northing_OSGR      10290.000000  178260.000000  268830.000000   \n",
       "Longitude                      -7.516225      -2.373902      -1.403714   \n",
       "Latitude                       49.912941      51.490156      52.309126   \n",
       "Police_Force                    1.000000       6.000000      30.000000   \n",
       "Accident_Severity               1.000000       3.000000       3.000000   \n",
       "Number_of_Vehicles              1.000000       1.000000       2.000000   \n",
       "Number_of_Casualties            1.000000       1.000000       1.000000   \n",
       "Day_of_Week                     1.000000       2.000000       4.000000   \n",
       "Local_Authority_(District)      1.000000     110.000000     322.000000   \n",
       "1st_Road_Class                  1.000000       3.000000       4.000000   \n",
       "1st_Road_Number                -1.000000       0.000000     129.000000   \n",
       "Speed_limit                    10.000000      30.000000      30.000000   \n",
       "Junction_Detail                      NaN            NaN            NaN   \n",
       "2nd_Road_Class                 -1.000000      -1.000000       3.000000   \n",
       "2nd_Road_Number                -1.000000       0.000000       0.000000   \n",
       "Urban_or_Rural_Area             1.000000       1.000000       1.000000   \n",
       "Year                         2005.000000    2006.000000    2010.000000   \n",
       "\n",
       "                                      75%           max  \n",
       "Location_Easting_OSGR       523060.000000  6.553700e+05  \n",
       "Location_Northing_OSGR      398151.000000  1.208800e+06  \n",
       "Longitude                       -0.221510  1.759398e+00  \n",
       "Latitude                        53.478581  6.075754e+01  \n",
       "Police_Force                    45.000000  9.800000e+01  \n",
       "Accident_Severity                3.000000  3.000000e+00  \n",
       "Number_of_Vehicles               2.000000  6.700000e+01  \n",
       "Number_of_Casualties             1.000000  9.300000e+01  \n",
       "Day_of_Week                      6.000000  7.000000e+00  \n",
       "Local_Authority_(District)     518.000000  9.410000e+02  \n",
       "1st_Road_Class                   6.000000  6.000000e+00  \n",
       "1st_Road_Number                725.000000  9.999000e+03  \n",
       "Speed_limit                     50.000000  7.000000e+01  \n",
       "Junction_Detail                       NaN           NaN  \n",
       "2nd_Road_Class                   6.000000  6.000000e+00  \n",
       "2nd_Road_Number                  0.000000  9.999000e+03  \n",
       "Urban_or_Rural_Area              2.000000  3.000000e+00  \n",
       "Year                          2012.000000  2.014000e+03  "
      ]
     },
     "execution_count": 6,
     "metadata": {},
     "output_type": "execute_result"
    }
   ],
   "source": [
    "df.describe().T"
   ]
  },
  {
   "cell_type": "code",
   "execution_count": 7,
   "metadata": {},
   "outputs": [
    {
     "data": {
      "text/plain": [
       "Accident_Index                                       0\n",
       "Location_Easting_OSGR                              101\n",
       "Location_Northing_OSGR                             101\n",
       "Longitude                                          101\n",
       "Latitude                                           101\n",
       "Police_Force                                         0\n",
       "Accident_Severity                                    0\n",
       "Number_of_Vehicles                                   0\n",
       "Number_of_Casualties                                 0\n",
       "Date                                                 0\n",
       "Day_of_Week                                          0\n",
       "Time                                               117\n",
       "Local_Authority_(District)                           0\n",
       "Local_Authority_(Highway)                            0\n",
       "1st_Road_Class                                       0\n",
       "1st_Road_Number                                      0\n",
       "Road_Type                                            0\n",
       "Speed_limit                                          0\n",
       "Junction_Detail                                1504150\n",
       "Junction_Control                                602835\n",
       "2nd_Road_Class                                       0\n",
       "2nd_Road_Number                                      0\n",
       "Pedestrian_Crossing-Human_Control                   17\n",
       "Pedestrian_Crossing-Physical_Facilities             34\n",
       "Light_Conditions                                     0\n",
       "Weather_Conditions                                 126\n",
       "Road_Surface_Conditions                           1958\n",
       "Special_Conditions_at_Site                          15\n",
       "Carriageway_Hazards                                 29\n",
       "Urban_or_Rural_Area                                  0\n",
       "Did_Police_Officer_Attend_Scene_of_Accident       2922\n",
       "LSOA_of_Accident_Location                       108238\n",
       "Year                                                 0\n",
       "dtype: int64"
      ]
     },
     "execution_count": 7,
     "metadata": {},
     "output_type": "execute_result"
    }
   ],
   "source": [
    "df.isnull().sum()"
   ]
  },
  {
   "cell_type": "code",
   "execution_count": 8,
   "metadata": {},
   "outputs": [],
   "source": [
    "df.drop([\"Junction_Detail\",\"Junction_Control\",\"LSOA_of_Accident_Location\"],inplace=True,axis=1)"
   ]
  },
  {
   "cell_type": "code",
   "execution_count": 9,
   "metadata": {},
   "outputs": [
    {
     "data": {
      "text/plain": [
       "Accident_Index                                    0\n",
       "Location_Easting_OSGR                           101\n",
       "Location_Northing_OSGR                          101\n",
       "Longitude                                       101\n",
       "Latitude                                        101\n",
       "Police_Force                                      0\n",
       "Accident_Severity                                 0\n",
       "Number_of_Vehicles                                0\n",
       "Number_of_Casualties                              0\n",
       "Date                                              0\n",
       "Day_of_Week                                       0\n",
       "Time                                            117\n",
       "Local_Authority_(District)                        0\n",
       "Local_Authority_(Highway)                         0\n",
       "1st_Road_Class                                    0\n",
       "1st_Road_Number                                   0\n",
       "Road_Type                                         0\n",
       "Speed_limit                                       0\n",
       "2nd_Road_Class                                    0\n",
       "2nd_Road_Number                                   0\n",
       "Pedestrian_Crossing-Human_Control                17\n",
       "Pedestrian_Crossing-Physical_Facilities          34\n",
       "Light_Conditions                                  0\n",
       "Weather_Conditions                              126\n",
       "Road_Surface_Conditions                        1958\n",
       "Special_Conditions_at_Site                       15\n",
       "Carriageway_Hazards                              29\n",
       "Urban_or_Rural_Area                               0\n",
       "Did_Police_Officer_Attend_Scene_of_Accident    2922\n",
       "Year                                              0\n",
       "dtype: int64"
      ]
     },
     "execution_count": 9,
     "metadata": {},
     "output_type": "execute_result"
    }
   ],
   "source": [
    "df.isnull().sum()"
   ]
  },
  {
   "cell_type": "code",
   "execution_count": 10,
   "metadata": {},
   "outputs": [],
   "source": [
    "df.dropna(axis=0,inplace=True)"
   ]
  },
  {
   "cell_type": "code",
   "execution_count": 11,
   "metadata": {},
   "outputs": [
    {
     "data": {
      "image/png": "[encoded data removed]",
      "text/plain": [
       "<Figure size 1440x720 with 1 Axes>"
      ]
     },
     "metadata": {
      "needs_background": "light"
     },
     "output_type": "display_data"
    }
   ],
   "source": [
    "plt.figure(figsize=(20,10))\n",
    "sns.countplot(x='Day_of_Week',data=df)\n",
    "plt.show()"
   ]
  },
  {
   "cell_type": "code",
   "execution_count": 139,
   "metadata": {},
   "outputs": [
    {
     "data": {
      "image/png": "[encoded data removed]",
      "text/plain": [
       "<Figure size 1440x720 with 1 Axes>"
      ]
     },
     "metadata": {
      "needs_background": "light"
     },
     "output_type": "display_data"
    }
   ],
   "source": [
    "plt.figure(figsize=(20,10))\n",
    "sns.countplot(x='Speed_limit',data=df,hue=\"Accident_Severity\")\n",
    "plt.show()"
   ]
  },
  {
   "cell_type": "code",
   "execution_count": 125,
   "metadata": {},
   "outputs": [
    {
     "data": {
      "image/png": "[encoded data removed]",
      "text/plain": [
       "<Figure size 1440x720 with 1 Axes>"
      ]
     },
     "metadata": {
      "needs_background": "light"
     },
     "output_type": "display_data"
    }
   ],
   "source": [
    "plt.figure(figsize=(20,10))\n",
    "sns.countplot(x=pd.to_datetime(df.Time, utc=True, infer_datetime_format=True).dt.strftime(\"%H\"),order=[\"00\",\"01\",\"02\",\"03\",\"04\",\"05\",\"06\",\"07\",\"08\",\"09\",\"10\",\"11\",\"12\",\"13\",\"14\",\"15\",\"16\",\"17\",\"18\",\"19\",\"20\",\"21\",\"22\",\"23\"])\n",
    "plt.show()"
   ]
  },
  {
   "cell_type": "code",
   "execution_count": 159,
   "metadata": {},
   "outputs": [
    {
     "data": {
      "image/png": "[encoded data removed]",
      "text/plain": [
       "<Figure size 1440x720 with 1 Axes>"
      ]
     },
     "metadata": {},
     "output_type": "display_data"
    }
   ],
   "source": [
    "plt.figure(figsize=(20,10))\n",
    "colors = sns.color_palette('pastel')[0:5]\n",
    "labels = ['Urban', 'Rural']\n",
    "plt.pie(df.Urban_or_Rural_Area.value_counts()[:2].values, colors = colors,labels = labels, autopct='%.0f%%')\n",
    "plt.show()"
   ]
  },
  {
   "cell_type": "code",
   "execution_count": 183,
   "metadata": {},
   "outputs": [
    {
     "data": {
      "image/png": "[encoded data removed]",
      "text/plain": [
       "<Figure size 2160x720 with 1 Axes>"
      ]
     },
     "metadata": {
      "needs_background": "light"
     },
     "output_type": "display_data"
    }
   ],
   "source": [
    "plt.figure(figsize=(30,10))\n",
    "sns.countplot(x='Weather_Conditions',data=df,hue=\"Road_Surface_Conditions\")\n",
    "plt.show()"
   ]
  },
  {
   "cell_type": "code",
   "execution_count": null,
   "metadata": {},
   "outputs": [],
   "source": []
  }
 ],
 "metadata": {
  "interpreter": {
   "hash": "beeca8c5093efd3c49f5d0cec04d06359b54b9730ed0693e0a3370516b4f3ccb"
  },
  "kernelspec": {
   "display_name": "Python 3.10.1 64-bit",
   "language": "python",
   "name": "python3"
  },
  "language_info": {
   "codemirror_mode": {
    "name": "ipython",
    "version": 3
   },
   "file_extension": ".py",
   "mimetype": "text/x-python",
   "name": "python",
   "nbconvert_exporter": "python",
   "pygments_lexer": "ipython3",
   "version": "3.10.1"
  },
  "orig_nbformat": 4
 },
 "nbformat": 4,
 "nbformat_minor": 2
}
